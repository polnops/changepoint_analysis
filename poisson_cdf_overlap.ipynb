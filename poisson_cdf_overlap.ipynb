{
  "nbformat": 4,
  "nbformat_minor": 0,
  "metadata": {
    "colab": {
      "name": "poisson_cdf_overlap.ipynb",
      "provenance": [],
      "authorship_tag": "ABX9TyMopE3hEjCaC9gbST34oKS+",
      "include_colab_link": true
    },
    "kernelspec": {
      "name": "python3",
      "display_name": "Python 3"
    }
  },
  "cells": [
    {
      "cell_type": "markdown",
      "metadata": {
        "id": "view-in-github",
        "colab_type": "text"
      },
      "source": [
        "<a href=\"https://colab.research.google.com/github/polnops/changepoint_analysis/blob/master/poisson_cdf_overlap.ipynb\" target=\"_parent\"><img src=\"https://colab.research.google.com/assets/colab-badge.svg\" alt=\"Open In Colab\"/></a>"
      ]
    },
    {
      "cell_type": "code",
      "metadata": {
        "id": "y5KXQL2z90EA",
        "colab_type": "code",
        "colab": {}
      },
      "source": [
        "import numpy as np\n",
        "from scipy.stats import poisson\n",
        "import matplotlib.pyplot as plt\n",
        "from matplotlib import cycler\n",
        "\n",
        "\n",
        "#drive.mount('/content/gdrive')\n",
        "\n",
        "plt.style.use('classic')\n",
        "%matplotlib inline\n",
        "\n",
        "IPython_default = plt.rcParams.copy()\n",
        "colors = cycler('color',\n",
        "                ['#EE6666', '#3388BB', '#9988DD',\n",
        "                 '#EECC55', '#88BB44', '#FFBBBB'])\n",
        "plt.rc('axes', facecolor='#E6E6E6', edgecolor='none', \n",
        "       labelcolor='white', labelsize = 12,\n",
        "       axisbelow=True, prop_cycle=colors)\n",
        "       \n",
        "plt.rc('grid', color='w', linestyle='solid')\n",
        "plt.rc('xtick', direction='out', color='white')\n",
        "plt.rc('ytick', direction='out', color='white')\n",
        "plt.rc('patch', edgecolor='#E6E6E6')\n",
        "plt.rc('lines', linewidth=2)"
      ],
      "execution_count": 0,
      "outputs": []
    },
    {
      "cell_type": "code",
      "metadata": {
        "id": "wABXuWYYs4Gu",
        "colab_type": "code",
        "colab": {
          "base_uri": "https://localhost:8080/",
          "height": 517
        },
        "outputId": "748cd76d-9432-45a0-8360-611b37735028"
      },
      "source": [
        "\n",
        "n1 = 8; n2 = 2;\n",
        "\n",
        "x = np.arange(0,15,1)\n",
        "p1 = poisson.pmf(x, n1);\n",
        "p2 = poisson.pmf(x, n2);\n",
        "\n",
        "k0 = np.argmin(np.abs(p1-p2))\n",
        "c1 = poisson.cdf(x, n1);\n",
        "c2 = poisson.cdf(x, n2);\n",
        "\n",
        "\n",
        "fig = plt.subplots(2,1,figsize=(5,8))\n",
        "ax1 = plt.subplot(2,1,1)\n",
        "\n",
        "ax1.plot(x,p1,'bo',label='1')\n",
        "ax1.plot(x,p2,'ro',label='2')\n",
        "ax1.legend()\n",
        "\n",
        "ax2 = plt.subplot(2,1,2)\n",
        "\n",
        "ax2.plot(x,c1,'bo',label='1')\n",
        "ax2.plot(x,1-c2,'ro',label='2')\n",
        "ax2.plot(x,1-c2+c1,'go',label='2+1')\n",
        "ax2.legend()"
      ],
      "execution_count": 39,
      "outputs": [
        {
          "output_type": "execute_result",
          "data": {
            "text/plain": [
              "<matplotlib.legend.Legend at 0x7f78ee03cc88>"
            ]
          },
          "metadata": {
            "tags": []
          },
          "execution_count": 39
        },
        {
          "output_type": "display_data",
          "data": {
            "image/png": "[encoded data removed]",
            "text/plain": [
              "<Figure size 360x576 with 2 Axes>"
            ]
          },
          "metadata": {
            "tags": [],
            "needs_background": "dark"
          }
        }
      ]
    },
    {
      "cell_type": "code",
      "metadata": {
        "id": "5Z97Q7dKs4WV",
        "colab_type": "code",
        "colab": {}
      },
      "source": [
        "def getPoisson(n1,n2):\n",
        "\n",
        "  nl,ng = np.sort((n1,n2)).tolist()\n",
        "  x = np.arange(0,ng*2,1)\n",
        "  p1 = poisson.pmf(x, nl);\n",
        "  p2 = poisson.pmf(x, ng);\n",
        "  c1 = poisson.cdf(x, nl);\n",
        "  c2 = poisson.cdf(x, ng);\n",
        "\n",
        "  return x,p1,p2,c1,c2\n",
        "\n",
        "def findThreshold(c1,c2):\n",
        "  i = 0\n",
        "  while c1[i] < 1-c2[i]:\n",
        "    i += 1\n",
        "  return i, 1+c2[i]-c1[i]\n",
        "\n",
        "\n",
        "def plotPoisson(x,p1,p2,c1,c2):\n",
        "  fig = plt.subplots(2,1,figsize=(5,8))\n",
        "  ax1 = plt.subplot(2,1,1)\n",
        "\n",
        "  ax1.plot(x,p1,'bo',label='1')\n",
        "  ax1.plot(x,p2,'ro',label='2')\n",
        "  ax1.legend()\n",
        "\n",
        "  ax2 = plt.subplot(2,1,2)\n",
        "\n",
        "  ax2.plot(x,1-c1,'bo',label='1')\n",
        "  ax2.plot(x,c2,'ro',label='2')\n",
        "  ax2.plot(x,1+c2-c1,'go',label='2+1')\n",
        "  ax2.legend()\n",
        "\n",
        "def getOverlap(n1,n2):\n",
        "  return np.exp(-(np.sqrt(n2)-np.sqrt(n1))**2)"
      ],
      "execution_count": 0,
      "outputs": []
    },
    {
      "cell_type": "code",
      "metadata": {
        "id": "7IE3oZGas4QP",
        "colab_type": "code",
        "colab": {
          "base_uri": "https://localhost:8080/",
          "height": 85
        },
        "outputId": "67bd9dfa-ffce-46ce-8019-fb1ffc1cfbe5"
      },
      "source": [
        "npairs = [[0,6],[10,30],[25,60],[0,3]]\n",
        "\n",
        "for pair in npairs:\n",
        "  n1, n2 = pair\n",
        "  x,p1,p2,c1,c2 = getPoisson(n1,n2)\n",
        "  thres, err = findThreshold(c1,c2)\n",
        "  #plotPoisson(x,p1,p2,c1,c2)\n",
        "\n",
        "  print(getOverlap(n1,n2), err)\n",
        "\n",
        "\n"
      ],
      "execution_count": 75,
      "outputs": [
        {
          "output_type": "stream",
          "text": [
            "0.0024787521766663607 0.0024787521766662657\n",
            "0.004705685367614807 0.020119206370020182\n",
            "0.0005312206555560272 0.0060184087832551025\n",
            "0.049787068367863965 0.04978706836786406\n"
          ],
          "name": "stdout"
        }
      ]
    },
    {
      "cell_type": "code",
      "metadata": {
        "id": "xIUx1iMls4Jt",
        "colab_type": "code",
        "colab": {
          "base_uri": "https://localhost:8080/",
          "height": 294
        },
        "outputId": "6bc74408-1aec-465f-e677-f4ab9ced37c2"
      },
      "source": [
        "\n",
        "\n",
        "n2list = np.arange(30,60,2)\n",
        "errlist = []; ovllist =[];\n",
        "n1 = 25\n",
        "\n",
        "for n2 in n2list:\n",
        "  \n",
        "  x,p1,p2,c1,c2 = getPoisson(n1,n2)\n",
        "  thres, err = findThreshold(c1,c2)\n",
        "\n",
        "  errlist.append(err)\n",
        "  ovllist.append(getOverlap(n1,n2))\n",
        "  \n",
        "plt.plot(n2list,errlist)\n",
        "plt.plot(n2list,ovllist)\n",
        "\n",
        "\n"
      ],
      "execution_count": 81,
      "outputs": [
        {
          "output_type": "execute_result",
          "data": {
            "text/plain": [
              "[<matplotlib.lines.Line2D at 0x7f78ee44bd68>]"
            ]
          },
          "metadata": {
            "tags": []
          },
          "execution_count": 81
        },
        {
          "output_type": "display_data",
          "data": {
            "image/png": "[encoded data removed]",
            "text/plain": [
              "<Figure size 432x288 with 1 Axes>"
            ]
          },
          "metadata": {
            "tags": [],
            "needs_background": "dark"
          }
        }
      ]
    },
    {
      "cell_type": "markdown",
      "metadata": {
        "id": "QeZnw7oG90y7",
        "colab_type": "text"
      },
      "source": [
        "\n",
        "\n"
      ]
    }
  ]
}